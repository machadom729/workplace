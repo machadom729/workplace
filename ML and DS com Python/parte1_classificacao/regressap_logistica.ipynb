{
 "cells": [
  {
   "cell_type": "code",
   "execution_count": 12,
   "metadata": {},
   "outputs": [],
   "source": [
    "import numpy as np\n",
    "import pandas as pd\n",
    "from sklearn.metrics import accuracy_score, classification_report\n",
    "from yellowbrick.classifier import ConfusionMatrix\n",
    "from sklearn.linear_model import LogisticRegression\n",
    "import pickle"
   ]
  },
  {
   "cell_type": "code",
   "execution_count": 13,
   "metadata": {},
   "outputs": [],
   "source": [
    "with open('credit.pkl', 'rb') as f:\n",
    "    X_credit_treino, y_credit_treino, X_credit_teste, y_credit_teste = pickle.load(f)\n",
    "\n",
    "with open('census.pkl', 'rb') as f:\n",
    "    X_census_treino, y_census_treino, X_census_teste, y_census_teste = pickle.load(f)\n",
    "    \n",
    "with open('risco_credito.pkl', 'rb') as f:\n",
    "    X_risco_credito, y_risco_credito = pickle.load(f)"
   ]
  },
  {
   "cell_type": "code",
   "execution_count": 14,
   "metadata": {},
   "outputs": [],
   "source": [
    "X_risco_credito = np.delete(X_risco_credito, [2, 7, 11], axis = 0)\n",
    "y_risco_credito = np.delete(y_risco_credito, [2, 7, 11], axis = 0)"
   ]
  },
  {
   "cell_type": "code",
   "execution_count": 15,
   "metadata": {},
   "outputs": [
    {
     "name": "stdout",
     "output_type": "stream",
     "text": [
      "['baixo' 'alto']\n"
     ]
    }
   ],
   "source": [
    "logistic_risco_credito = LogisticRegression(random_state = 1)\n",
    "logistic_risco_credito.fit(X_risco_credito, y_risco_credito)\n",
    "\n",
    "previsoes1 = logistic_risco_credito.predict([[0,0,1,2], [2,0,0,0]])\n",
    "print(previsoes1)"
   ]
  },
  {
   "cell_type": "markdown",
   "metadata": {},
   "source": [
    "## Base de dados credito"
   ]
  },
  {
   "cell_type": "code",
   "execution_count": 18,
   "metadata": {},
   "outputs": [
    {
     "name": "stdout",
     "output_type": "stream",
     "text": [
      "0.946\n",
      "              precision    recall  f1-score   support\n",
      "\n",
      "           0       0.97      0.97      0.97       436\n",
      "           1       0.79      0.78      0.79        64\n",
      "\n",
      "    accuracy                           0.95       500\n",
      "   macro avg       0.88      0.88      0.88       500\n",
      "weighted avg       0.95      0.95      0.95       500\n",
      "\n"
     ]
    },
    {
     "data": {
      "image/png": "[encoded data removed]",
      "text/plain": [
       "<Figure size 576x396 with 1 Axes>"
      ]
     },
     "metadata": {},
     "output_type": "display_data"
    }
   ],
   "source": [
    "logistic_credit = LogisticRegression(random_state=1)\n",
    "logistic_credit.fit(X_credit_treino, y_credit_treino)\n",
    "previsoes = logistic_credit.predict(X_credit_teste)\n",
    "\n",
    "print(accuracy_score(y_credit_teste, previsoes))\n",
    "\n",
    "cm = ConfusionMatrix(logistic_credit)\n",
    "cm.fit(X_credit_treino, y_credit_treino)\n",
    "cm.score(X_credit_teste, y_credit_teste)\n",
    "\n",
    "print(classification_report(y_credit_teste, previsoes))"
   ]
  },
  {
   "cell_type": "markdown",
   "metadata": {},
   "source": [
    "## Base de dados census"
   ]
  },
  {
   "cell_type": "code",
   "execution_count": 21,
   "metadata": {},
   "outputs": [
    {
     "name": "stdout",
     "output_type": "stream",
     "text": [
      "0.849539406345957\n",
      "              precision    recall  f1-score   support\n",
      "\n",
      "       <=50K       0.88      0.93      0.90      3693\n",
      "        >50K       0.73      0.61      0.66      1192\n",
      "\n",
      "    accuracy                           0.85      4885\n",
      "   macro avg       0.80      0.77      0.78      4885\n",
      "weighted avg       0.84      0.85      0.84      4885\n",
      "\n"
     ]
    },
    {
     "data": {
      "image/png": "[encoded data removed]",
      "text/plain": [
       "<Figure size 576x396 with 1 Axes>"
      ]
     },
     "metadata": {},
     "output_type": "display_data"
    }
   ],
   "source": [
    "logistic_census = LogisticRegression(random_state=1)\n",
    "logistic_census.fit(X_census_treino, y_census_treino)\n",
    "previsoes = logistic_census.predict(X_census_teste)\n",
    "\n",
    "print(accuracy_score(y_census_teste, previsoes))\n",
    "\n",
    "cm = ConfusionMatrix(logistic_census)\n",
    "cm.fit(X_census_treino, y_census_treino)\n",
    "cm.score(X_census_teste, y_census_teste)\n",
    "\n",
    "print(classification_report(y_census_teste, previsoes))"
   ]
  },
  {
   "cell_type": "code",
   "execution_count": null,
   "metadata": {},
   "outputs": [],
   "source": []
  }
 ],
 "metadata": {
  "interpreter": {
   "hash": "145c14d8c45fa53258e73f0f31332f88a0083307ad3070aac1ab7d229133b30a"
  },
  "kernelspec": {
   "display_name": "Python 3.9.9 64-bit",
   "language": "python",
   "name": "python3"
  },
  "language_info": {
   "codemirror_mode": {
    "name": "ipython",
    "version": 3
   },
   "file_extension": ".py",
   "mimetype": "text/x-python",
   "name": "python",
   "nbconvert_exporter": "python",
   "pygments_lexer": "ipython3",
   "version": "3.9.9"
  },
  "orig_nbformat": 4
 },
 "nbformat": 4,
 "nbformat_minor": 2
}
