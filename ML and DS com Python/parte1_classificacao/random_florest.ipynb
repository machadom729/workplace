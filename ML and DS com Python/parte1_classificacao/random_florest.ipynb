{
 "cells": [
  {
   "cell_type": "code",
   "execution_count": 4,
   "metadata": {},
   "outputs": [],
   "source": [
    "import numpy as np\n",
    "import pandas as pd\n",
    "import matplotlib.pyplot as plt\n",
    "import plotly.express as px\n",
    "from sklearn.metrics import accuracy_score, classification_report\n",
    "from sklearn.ensemble import RandomForestClassifier\n",
    "from yellowbrick.classifier import ConfusionMatrix\n",
    "import pickle"
   ]
  },
  {
   "cell_type": "code",
   "execution_count": 11,
   "metadata": {},
   "outputs": [
    {
     "name": "stdout",
     "output_type": "stream",
     "text": [
      "A accuracy é 98.40%\n",
      "\n",
      "              precision    recall  f1-score   support\n",
      "\n",
      "           0       0.99      0.99      0.99       436\n",
      "           1       0.95      0.92      0.94        64\n",
      "\n",
      "    accuracy                           0.98       500\n",
      "   macro avg       0.97      0.96      0.96       500\n",
      "weighted avg       0.98      0.98      0.98       500\n",
      "\n"
     ]
    },
    {
     "data": {
      "image/png": "[encoded data removed]",
      "text/plain": [
       "<Figure size 576x396 with 1 Axes>"
      ]
     },
     "metadata": {},
     "output_type": "display_data"
    }
   ],
   "source": [
    "with open('credit.pkl', 'rb') as f:\n",
    "    X_credit_treino, y_credit_treino, X_credit_teste, y_credit_teste = pickle.load(f)\n",
    "    \n",
    "with open('census.pkl', 'rb') as f:\n",
    "    X_census_treino, y_census_treino, X_census_teste, y_census_teste = pickle.load(f)\n",
    "    \n",
    "    \n",
    "random_florest_credit = RandomForestClassifier(n_estimators= 40, criterion = 'entropy', random_state = 0)\n",
    "random_florest_credit.fit(X_credit_treino, y_credit_treino)\n",
    "previsoes = random_florest_credit.predict(X_credit_teste)\n",
    "\n",
    "print(f'A accuracy é {accuracy_score(y_credit_teste, previsoes) * 100:.2f}%\\n')\n",
    "\n",
    "cm = ConfusionMatrix(random_florest_credit)\n",
    "cm.fit(X_credit_treino, y_credit_treino)\n",
    "cm.score(X_credit_teste, y_credit_teste)\n",
    "\n",
    "print(classification_report(y_credit_teste, previsoes))"
   ]
  },
  {
   "cell_type": "markdown",
   "metadata": {},
   "source": [
    "## Base de dados census"
   ]
  },
  {
   "cell_type": "code",
   "execution_count": 34,
   "metadata": {},
   "outputs": [
    {
     "name": "stdout",
     "output_type": "stream",
     "text": [
      "A accuracy é 85.07676560900717 % \n",
      "\n",
      "              precision    recall  f1-score   support\n",
      "\n",
      "       <=50K       0.88      0.93      0.90      3693\n",
      "        >50K       0.73      0.62      0.67      1192\n",
      "\n",
      "    accuracy                           0.85      4885\n",
      "   macro avg       0.81      0.77      0.79      4885\n",
      "weighted avg       0.85      0.85      0.85      4885\n",
      "\n"
     ]
    },
    {
     "data": {
      "image/png": "[encoded data removed]",
      "text/plain": [
       "<Figure size 576x396 with 1 Axes>"
      ]
     },
     "metadata": {},
     "output_type": "display_data"
    }
   ],
   "source": [
    "random_florest_census = RandomForestClassifier(n_estimators = 100, criterion = 'entropy', random_state= 0)\n",
    "random_florest_census.fit(X_census_treino, y_census_treino)\n",
    "previsoes = random_florest_census.predict(X_census_teste)\n",
    "\n",
    "print(f'A accuracy é {accuracy_score(y_census_teste, previsoes)*100} % \\n')\n",
    "\n",
    "cm = ConfusionMatrix(random_florest_census)\n",
    "cm.fit(X_census_treino, y_census_treino)\n",
    "cm.score(X_census_teste, y_census_teste)\n",
    "\n",
    "print(classification_report(y_census_teste, previsoes))"
   ]
  },
  {
   "cell_type": "code",
   "execution_count": null,
   "metadata": {},
   "outputs": [],
   "source": []
  }
 ],
 "metadata": {
  "interpreter": {
   "hash": "145c14d8c45fa53258e73f0f31332f88a0083307ad3070aac1ab7d229133b30a"
  },
  "kernelspec": {
   "display_name": "Python 3.9.9 64-bit",
   "language": "python",
   "name": "python3"
  },
  "language_info": {
   "codemirror_mode": {
    "name": "ipython",
    "version": 3
   },
   "file_extension": ".py",
   "mimetype": "text/x-python",
   "name": "python",
   "nbconvert_exporter": "python",
   "pygments_lexer": "ipython3",
   "version": "3.9.9"
  },
  "orig_nbformat": 4
 },
 "nbformat": 4,
 "nbformat_minor": 2
}
