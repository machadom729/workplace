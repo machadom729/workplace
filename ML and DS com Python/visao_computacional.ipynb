{
 "cells": [
  {
   "cell_type": "code",
   "execution_count": 1,
   "metadata": {},
   "outputs": [],
   "source": [
    "import cv2"
   ]
  },
  {
   "cell_type": "code",
   "execution_count": 2,
   "metadata": {},
   "outputs": [],
   "source": [
    "imagem = cv2.imread('workplace-1245776_1920.jpg')"
   ]
  },
  {
   "cell_type": "code",
   "execution_count": 3,
   "metadata": {},
   "outputs": [
    {
     "data": {
      "text/plain": [
       "-1"
      ]
     },
     "execution_count": 3,
     "metadata": {},
     "output_type": "execute_result"
    }
   ],
   "source": [
    "windows_name = 'image'\n",
    "cv2.imshow(windows_name, imagem)\n",
    "\n",
    "cv2.waitKey(0)"
   ]
  },
  {
   "cell_type": "code",
   "execution_count": 4,
   "metadata": {},
   "outputs": [],
   "source": [
    "cv2.destroyAllWindows()"
   ]
  },
  {
   "cell_type": "code",
   "execution_count": 5,
   "metadata": {},
   "outputs": [
    {
     "data": {
      "text/plain": [
       "-1"
      ]
     },
     "execution_count": 5,
     "metadata": {},
     "output_type": "execute_result"
    }
   ],
   "source": [
    "detector_face = cv2.CascadeClassifier('haarcascade_frontalface_default.xml')\n",
    "\n",
    "imagem_cinza = cv2.cvtColor(imagem, cv2.COLOR_BGR2GRAY)\n",
    "cv2.imshow(windows_name, imagem_cinza)\n",
    "\n",
    "cv2.waitKey(0)"
   ]
  },
  {
   "cell_type": "code",
   "execution_count": 6,
   "metadata": {},
   "outputs": [],
   "source": [
    "cv2.destroyAllWindows()"
   ]
  },
  {
   "cell_type": "code",
   "execution_count": 7,
   "metadata": {},
   "outputs": [
    {
     "data": {
      "text/plain": [
       "array([[1635,  156,  147,  147],\n",
       "       [ 284,  262,  114,  114],\n",
       "       [ 928,  491,  171,  171],\n",
       "       [1149,  260,  129,  129],\n",
       "       [ 222,  507,  151,  151]])"
      ]
     },
     "execution_count": 7,
     "metadata": {},
     "output_type": "execute_result"
    }
   ],
   "source": [
    "deteccoes = detector_face.detectMultiScale(imagem_cinza, scaleFactor=1.3, minSize=(30,30))\n",
    "deteccoes\n"
   ]
  },
  {
   "cell_type": "code",
   "execution_count": 8,
   "metadata": {},
   "outputs": [
    {
     "data": {
      "text/plain": [
       "-1"
      ]
     },
     "execution_count": 8,
     "metadata": {},
     "output_type": "execute_result"
    }
   ],
   "source": [
    "for (x, y, l, a) in deteccoes:\n",
    "    cv2.rectangle(imagem, (x, y), (x + l, y + a), (0,255,0), 2)\n",
    "    \n",
    "cv2.imshow(windows_name, imagem)\n",
    "cv2.waitKey(0)"
   ]
  },
  {
   "cell_type": "code",
   "execution_count": 9,
   "metadata": {},
   "outputs": [],
   "source": [
    "cv2.destroyAllWindows()"
   ]
  },
  {
   "cell_type": "code",
   "execution_count": 10,
   "metadata": {},
   "outputs": [],
   "source": [
    "## exercicio"
   ]
  },
  {
   "cell_type": "code",
   "execution_count": 11,
   "metadata": {},
   "outputs": [],
   "source": [
    "pessoas = cv2.imread('pessoas.jpg')\n",
    "\n",
    "#cv2.imshow(windows_name, pessoas)\n",
    "#cv2.waitKey(0)\n",
    "#cv2.destroyAllWindows()"
   ]
  },
  {
   "cell_type": "code",
   "execution_count": 12,
   "metadata": {},
   "outputs": [],
   "source": [
    "detector_body = cv2.CascadeClassifier('fullbody.xml')\n",
    "pessoas_cinzas = cv2.cvtColor(pessoas, cv2.COLOR_BGR2GRAY)\n",
    "\n",
    "cv2.imshow(windows_name, pessoas_cinzas)\n",
    "cv2.waitKey(0)\n",
    "cv2.destroyAllWindows()"
   ]
  },
  {
   "cell_type": "code",
   "execution_count": 13,
   "metadata": {},
   "outputs": [
    {
     "name": "stdout",
     "output_type": "stream",
     "text": [
      "[[ 71  62  93 186]\n",
      " [325  70  86 171]\n",
      " [264  78  79 158]\n",
      " [525  88  77 153]\n",
      " [461  60  89 178]\n",
      " [138  70  84 169]\n",
      " [197  52  93 186]\n",
      " [ 12  64  90 179]\n",
      " [396  60  89 177]]\n"
     ]
    }
   ],
   "source": [
    "deteccoes_pessoas = detector_body.detectMultiScale(pessoas_cinzas, scaleFactor=1.01, minSize=(40,140))\n",
    "print(deteccoes_pessoas)"
   ]
  },
  {
   "cell_type": "code",
   "execution_count": 14,
   "metadata": {},
   "outputs": [],
   "source": [
    "for (x, y, l ,a) in deteccoes_pessoas:\n",
    "    cv2.rectangle(pessoas, (x,y), (x+l, y+a), 2)\n",
    "    \n",
    "cv2.imshow(windows_name, pessoas)\n",
    "cv2.waitKey(0)\n",
    "cv2.destroyAllWindows()"
   ]
  },
  {
   "cell_type": "markdown",
   "metadata": {},
   "source": [
    "## reconhecimento facial\n",
    "treinamento"
   ]
  },
  {
   "cell_type": "code",
   "execution_count": 15,
   "metadata": {},
   "outputs": [],
   "source": [
    "from PIL import Image\n",
    "import numpy as np\n",
    "import os"
   ]
  },
  {
   "cell_type": "code",
   "execution_count": 16,
   "metadata": {},
   "outputs": [],
   "source": [
    "def dados_imagem():\n",
    "    caminhos = [os.path.join(r'yalefaces\\train', f) for f in os.listdir(r'yalefaces\\train')]\n",
    "    faces = []\n",
    "    ids = []\n",
    "    for caminho in caminhos:\n",
    "        imagem = Image.open(caminho).convert('L')\n",
    "        imagem_np = np.array(imagem, 'uint8')\n",
    "        id = int(os.path.split(caminho)[1].split('.')[0].replace('subject', ''))\n",
    "        ids.append(id)\n",
    "        faces.append(imagem_np)\n",
    "    \n",
    "    return np.array(ids), faces"
   ]
  },
  {
   "cell_type": "code",
   "execution_count": 17,
   "metadata": {},
   "outputs": [],
   "source": [
    "ids, faces = dados_imagem()"
   ]
  },
  {
   "cell_type": "code",
   "execution_count": 18,
   "metadata": {},
   "outputs": [
    {
     "name": "stdout",
     "output_type": "stream",
     "text": [
      "[ 1  1  1  1  1  1  1  1  1  2  2  2  2  2  2  2  2  2  3  3  3  3  3  3\n",
      "  3  3  3  4  4  4  4  4  4  4  4  4  5  5  5  5  5  5  5  5  5  6  6  6\n",
      "  6  6  6  6  6  6  7  7  7  7  7  7  7  7  7  8  8  8  8  8  8  8  8  8\n",
      "  9  9  9  9  9  9  9  9  9 10 10 10 10 10 10 10 10 10 11 11 11 11 11 11\n",
      " 11 11 11 12 12 12 12 12 12 12 12 12 13 13 13 13 13 13 13 13 13 14 14 14\n",
      " 14 14 14 14 14 14 15 15 15 15 15 15 15 15 15]\n"
     ]
    }
   ],
   "source": [
    "print(ids)"
   ]
  },
  {
   "cell_type": "code",
   "execution_count": 19,
   "metadata": {},
   "outputs": [
    {
     "name": "stdout",
     "output_type": "stream",
     "text": [
      "[[130 130 130 ... 255 255 255]\n",
      " [255 255 255 ... 255 255 255]\n",
      " [255 255 255 ... 255 255 255]\n",
      " ...\n",
      " [255 255 255 ... 252 255 255]\n",
      " [255 255 255 ... 255 255 255]\n",
      " [ 68  68  68 ...  68  68  68]]\n"
     ]
    }
   ],
   "source": [
    "print(faces[0])"
   ]
  },
  {
   "cell_type": "code",
   "execution_count": 20,
   "metadata": {},
   "outputs": [],
   "source": [
    "lbph = cv2.face.LBPHFaceRecognizer_create()\n",
    "lbph.train(faces, ids)\n",
    "lbph.write('classificadorLBPH.yml')"
   ]
  }
 ],
 "metadata": {
  "interpreter": {
   "hash": "b3ba2566441a7c06988d0923437866b63cedc61552a5af99d1f4fb67d367b25f"
  },
  "kernelspec": {
   "display_name": "Python 3.9.7 64-bit ('base': conda)",
   "language": "python",
   "name": "python3"
  },
  "language_info": {
   "codemirror_mode": {
    "name": "ipython",
    "version": 3
   },
   "file_extension": ".py",
   "mimetype": "text/x-python",
   "name": "python",
   "nbconvert_exporter": "python",
   "pygments_lexer": "ipython3",
   "version": "3.9.7"
  },
  "orig_nbformat": 4
 },
 "nbformat": 4,
 "nbformat_minor": 2
}
